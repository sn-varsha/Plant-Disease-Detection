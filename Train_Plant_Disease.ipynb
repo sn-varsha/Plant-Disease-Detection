{
 "cells": [
  {
   "cell_type": "code",
   "execution_count": 1,
   "id": "047fd145-8754-4919-a627-8f1636b1363b",
   "metadata": {},
   "outputs": [],
   "source": [
    "import tensorflow as tf\n",
    "import matplotlib.pyplot as plt\n",
    "import pandas as pd\n",
    "import seaborn as sns"
   ]
  },
  {
   "cell_type": "code",
   "execution_count": 2,
   "id": "4b0f1b36-07b7-4a9d-9849-f18a70dfe90e",
   "metadata": {},
   "outputs": [
    {
     "name": "stdout",
     "output_type": "stream",
     "text": [
      "Found 66551 files belonging to 36 classes.\n"
     ]
    }
   ],
   "source": [
    "training_set = tf.keras.utils.image_dataset_from_directory(\n",
    "   r'C:\\Users\\varsh\\Desktop\\archive\\New_Plant_Diseases_Dataset_Augmented\\New Plant Diseases Dataset(Augmented)\\train',\n",
    "    labels=\"inferred\",\n",
    "    label_mode=\"categorical\",\n",
    "    class_names=None,\n",
    "    color_mode=\"rgb\",\n",
    "    batch_size=32,\n",
    "    image_size=(128, 128),\n",
    "    shuffle=True,\n",
    "    seed=None,\n",
    "    validation_split=None,\n",
    "    subset=None,\n",
    "    interpolation=\"bilinear\",\n",
    "    follow_links=False,\n",
    "    crop_to_aspect_ratio=False,\n",
    ")"
   ]
  },
  {
   "cell_type": "code",
   "execution_count": 5,
   "id": "3224de9c-61b7-40b4-ae45-2bbd049791ec",
   "metadata": {},
   "outputs": [
    {
     "name": "stdout",
     "output_type": "stream",
     "text": [
      "Found 16636 files belonging to 36 classes.\n"
     ]
    }
   ],
   "source": [
    "validation_set = tf.keras.utils.image_dataset_from_directory(\n",
    "    r'C:\\Users\\varsh\\Desktop\\archive\\New_Plant_Diseases_Dataset_Augmented\\New Plant Diseases Dataset(Augmented)\\valid',\n",
    "    labels=\"inferred\",\n",
    "    label_mode=\"categorical\",\n",
    "    class_names=None,\n",
    "    color_mode=\"rgb\",\n",
    "    batch_size=32,\n",
    "    image_size=(128, 128),\n",
    "    shuffle=True,\n",
    "    seed=None,\n",
    "    validation_split=None,\n",
    "    subset=None,\n",
    "    interpolation=\"bilinear\",\n",
    "    follow_links=False,\n",
    "    crop_to_aspect_ratio=False,\n",
    ")"
   ]
  },
  {
   "cell_type": "code",
   "execution_count": 7,
   "id": "4bf85740-a18f-4701-bc20-d995c86279e3",
   "metadata": {},
   "outputs": [
    {
     "data": {
      "text/plain": [
       "<_PrefetchDataset element_spec=(TensorSpec(shape=(None, 128, 128, 3), dtype=tf.float32, name=None), TensorSpec(shape=(None, 36), dtype=tf.float32, name=None))>"
      ]
     },
     "execution_count": 7,
     "metadata": {},
     "output_type": "execute_result"
    }
   ],
   "source": [
    "training_set"
   ]
  },
  {
   "cell_type": "code",
   "execution_count": 9,
   "id": "81cde366-5121-4f93-88a4-57c03e536993",
   "metadata": {},
   "outputs": [
    {
     "name": "stdout",
     "output_type": "stream",
     "text": [
      "tf.Tensor(\n",
      "[[[[167.   166.   162.  ]\n",
      "   [166.5  165.5  161.5 ]\n",
      "   [172.5  171.5  167.5 ]\n",
      "   ...\n",
      "   [172.   170.   173.  ]\n",
      "   [172.5  170.5  173.5 ]\n",
      "   [173.75 171.75 174.75]]\n",
      "\n",
      "  [[166.5  165.5  161.5 ]\n",
      "   [167.25 166.25 162.25]\n",
      "   [170.5  169.5  165.5 ]\n",
      "   ...\n",
      "   [168.25 166.25 169.25]\n",
      "   [172.75 170.75 173.75]\n",
      "   [168.75 166.75 169.75]]\n",
      "\n",
      "  [[166.5  165.5  161.5 ]\n",
      "   [168.5  167.5  163.5 ]\n",
      "   [168.   167.   163.  ]\n",
      "   ...\n",
      "   [171.5  169.5  172.5 ]\n",
      "   [169.75 167.75 170.75]\n",
      "   [174.25 172.25 175.25]]\n",
      "\n",
      "  ...\n",
      "\n",
      "  [[128.25 118.25 116.25]\n",
      "   [125.   115.   113.  ]\n",
      "   [123.   113.   111.  ]\n",
      "   ...\n",
      "   [103.75  93.75  91.75]\n",
      "   [108.25  98.25  96.25]\n",
      "   [110.75 100.75  98.75]]\n",
      "\n",
      "  [[122.75 112.75 110.75]\n",
      "   [121.75 111.75 109.75]\n",
      "   [123.75 113.75 111.75]\n",
      "   ...\n",
      "   [127.5  117.5  115.5 ]\n",
      "   [120.5  110.5  108.5 ]\n",
      "   [128.25 118.25 116.25]]\n",
      "\n",
      "  [[125.   115.   113.  ]\n",
      "   [128.75 118.75 116.75]\n",
      "   [127.5  117.5  115.5 ]\n",
      "   ...\n",
      "   [114.75 104.75 102.75]\n",
      "   [119.75 109.75 107.75]\n",
      "   [131.   121.   119.  ]]]\n",
      "\n",
      "\n",
      " [[[147.5  131.5  142.5 ]\n",
      "   [148.75 132.75 143.75]\n",
      "   [147.25 131.25 142.25]\n",
      "   ...\n",
      "   [117.5   95.5  107.5 ]\n",
      "   [120.    98.   110.  ]\n",
      "   [121.25  99.25 111.25]]\n",
      "\n",
      "  [[143.   127.   138.  ]\n",
      "   [144.5  128.5  139.5 ]\n",
      "   [149.   133.   144.  ]\n",
      "   ...\n",
      "   [120.25  98.25 110.25]\n",
      "   [124.25 102.25 114.25]\n",
      "   [126.   104.   116.  ]]\n",
      "\n",
      "  [[141.75 125.75 136.75]\n",
      "   [156.25 140.25 151.25]\n",
      "   [151.5  135.5  146.5 ]\n",
      "   ...\n",
      "   [120.25  98.25 110.25]\n",
      "   [121.5   99.5  111.5 ]\n",
      "   [114.5   92.5  104.5 ]]\n",
      "\n",
      "  ...\n",
      "\n",
      "  [[188.25 176.25 186.25]\n",
      "   [175.5  163.5  173.5 ]\n",
      "   [183.25 171.25 181.25]\n",
      "   ...\n",
      "   [ 17.5   11.5   15.5 ]\n",
      "   [ 17.5   11.5   15.5 ]\n",
      "   [ 17.5   11.5   15.5 ]]\n",
      "\n",
      "  [[185.75 173.75 183.75]\n",
      "   [182.5  170.5  180.5 ]\n",
      "   [189.75 177.75 187.75]\n",
      "   ...\n",
      "   [ 16.    10.    14.  ]\n",
      "   [ 16.    10.    14.  ]\n",
      "   [ 16.    10.    14.  ]]\n",
      "\n",
      "  [[180.75 168.75 178.75]\n",
      "   [181.   169.   179.  ]\n",
      "   [178.25 166.25 176.25]\n",
      "   ...\n",
      "   [ 15.5   10.5   14.5 ]\n",
      "   [ 15.5   10.5   14.5 ]\n",
      "   [ 15.5   10.5   14.5 ]]]\n",
      "\n",
      "\n",
      " [[[ 75.25  88.25  68.25]\n",
      "   [104.25 117.25  97.25]\n",
      "   [104.5  117.5   97.5 ]\n",
      "   ...\n",
      "   [125.   126.   144.  ]\n",
      "   [125.25 126.25 144.25]\n",
      "   [125.5  126.5  144.5 ]]\n",
      "\n",
      "  [[ 89.25 103.25  80.25]\n",
      "   [ 77.5   90.5   70.5 ]\n",
      "   [ 88.25 101.25  81.25]\n",
      "   ...\n",
      "   [126.75 127.75 145.75]\n",
      "   [128.75 129.75 147.75]\n",
      "   [129.75 130.75 148.75]]\n",
      "\n",
      "  [[ 88.25 102.25  79.25]\n",
      "   [ 86.25 100.25  77.25]\n",
      "   [ 73.75  86.75  66.75]\n",
      "   ...\n",
      "   [128.   129.   147.  ]\n",
      "   [126.5  127.5  145.5 ]\n",
      "   [125.   126.   144.  ]]\n",
      "\n",
      "  ...\n",
      "\n",
      "  [[ 61.    63.    76.  ]\n",
      "   [ 58.25  60.25  73.25]\n",
      "   [ 62.    64.    77.  ]\n",
      "   ...\n",
      "   [114.5  117.5  136.5 ]\n",
      "   [113.5  116.5  135.5 ]\n",
      "   [109.5  112.5  131.5 ]]\n",
      "\n",
      "  [[ 59.    61.    74.  ]\n",
      "   [ 62.25  64.25  77.25]\n",
      "   [ 65.75  67.75  80.75]\n",
      "   ...\n",
      "   [107.75 110.75 129.75]\n",
      "   [109.25 112.25 131.25]\n",
      "   [106.   109.   128.  ]]\n",
      "\n",
      "  [[ 53.    55.    68.  ]\n",
      "   [ 57.    59.    72.  ]\n",
      "   [ 55.5   57.5   70.5 ]\n",
      "   ...\n",
      "   [106.   109.   128.  ]\n",
      "   [113.   116.   135.  ]\n",
      "   [106.75 109.75 128.75]]]\n",
      "\n",
      "\n",
      " ...\n",
      "\n",
      "\n",
      " [[[131.75 128.75 139.75]\n",
      "   [124.25 121.25 132.25]\n",
      "   [133.75 130.75 141.75]\n",
      "   ...\n",
      "   [128.5  126.5  137.5 ]\n",
      "   [148.5  146.5  157.5 ]\n",
      "   [144.   142.   153.  ]]\n",
      "\n",
      "  [[128.   125.   136.  ]\n",
      "   [121.75 118.75 129.75]\n",
      "   [134.   131.   142.  ]\n",
      "   ...\n",
      "   [137.   135.   146.  ]\n",
      "   [138.25 136.25 147.25]\n",
      "   [142.75 140.75 151.75]]\n",
      "\n",
      "  [[121.25 118.25 129.25]\n",
      "   [139.25 136.25 147.25]\n",
      "   [137.   134.   145.  ]\n",
      "   ...\n",
      "   [163.   161.   172.  ]\n",
      "   [147.75 145.75 156.75]\n",
      "   [149.25 147.25 158.25]]\n",
      "\n",
      "  ...\n",
      "\n",
      "  [[163.25 161.25 174.25]\n",
      "   [164.25 162.25 175.25]\n",
      "   [160.75 158.75 171.75]\n",
      "   ...\n",
      "   [192.   190.   201.  ]\n",
      "   [191.5  189.5  200.5 ]\n",
      "   [195.5  193.5  204.5 ]]\n",
      "\n",
      "  [[162.   160.   173.  ]\n",
      "   [165.   163.   176.  ]\n",
      "   [164.   162.   175.  ]\n",
      "   ...\n",
      "   [189.5  187.5  198.5 ]\n",
      "   [188.75 186.75 197.75]\n",
      "   [188.   186.   197.  ]]\n",
      "\n",
      "  [[163.5  161.5  174.5 ]\n",
      "   [163.25 161.25 174.25]\n",
      "   [159.   157.   170.  ]\n",
      "   ...\n",
      "   [193.   191.   202.  ]\n",
      "   [193.5  191.5  202.5 ]\n",
      "   [191.25 189.25 200.25]]]\n",
      "\n",
      "\n",
      " [[[213.   207.   209.  ]\n",
      "   [215.25 209.25 211.25]\n",
      "   [214.25 208.25 210.25]\n",
      "   ...\n",
      "   [ 29.    24.    12.  ]\n",
      "   [ 34.75  25.25  13.5 ]\n",
      "   [ 46.75  34.75  21.25]]\n",
      "\n",
      "  [[208.5  202.5  204.5 ]\n",
      "   [212.   206.   208.  ]\n",
      "   [212.5  206.5  208.5 ]\n",
      "   ...\n",
      "   [ 25.5   21.5   10.  ]\n",
      "   [ 30.25  22.5   11.25]\n",
      "   [ 41.5   31.5   20.  ]]\n",
      "\n",
      "  [[214.25 208.25 210.25]\n",
      "   [216.   210.   212.  ]\n",
      "   [214.   208.   210.  ]\n",
      "   ...\n",
      "   [ 19.75  19.75   9.  ]\n",
      "   [ 28.25  22.25  11.5 ]\n",
      "   [ 47.75  40.25  29.  ]]\n",
      "\n",
      "  ...\n",
      "\n",
      "  [[  4.75   6.75   2.  ]\n",
      "   [  6.5   11.     4.  ]\n",
      "   [  8.25  17.     5.25]\n",
      "   ...\n",
      "   [ 90.5   99.    46.5 ]\n",
      "   [ 59.75  66.25  22.5 ]\n",
      "   [ 37.5   41.    12.5 ]]\n",
      "\n",
      "  [[  5.5    7.5    2.75]\n",
      "   [ 11.75  17.5    9.5 ]\n",
      "   [ 13.25  22.75   9.75]\n",
      "   ...\n",
      "   [ 52.25  64.75  19.  ]\n",
      "   [ 36.    44.25  12.25]\n",
      "   [ 50.    53.75  30.25]]\n",
      "\n",
      "  [[  8.    10.     6.  ]\n",
      "   [ 19.75  26.25  17.5 ]\n",
      "   [ 20.    29.5   16.  ]\n",
      "   ...\n",
      "   [ 64.5   79.    37.  ]\n",
      "   [ 30.    38.75   9.  ]\n",
      "   [ 42.75  45.75  26.75]]]\n",
      "\n",
      "\n",
      " [[[160.75 160.75 170.75]\n",
      "   [145.75 143.75 154.75]\n",
      "   [165.   162.   173.  ]\n",
      "   ...\n",
      "   [177.75 171.75 181.75]\n",
      "   [178.75 172.75 182.75]\n",
      "   [178.5  172.5  182.5 ]]\n",
      "\n",
      "  [[154.   154.   164.  ]\n",
      "   [173.   171.   182.  ]\n",
      "   [160.75 157.75 168.75]\n",
      "   ...\n",
      "   [189.   183.   193.  ]\n",
      "   [186.75 180.75 190.75]\n",
      "   [179.75 173.75 183.75]]\n",
      "\n",
      "  [[157.   157.   167.  ]\n",
      "   [163.   161.   172.  ]\n",
      "   [171.75 168.75 179.75]\n",
      "   ...\n",
      "   [191.   185.   195.  ]\n",
      "   [186.75 180.75 190.75]\n",
      "   [188.   182.   192.  ]]\n",
      "\n",
      "  ...\n",
      "\n",
      "  [[124.75 109.75 116.75]\n",
      "   [130.25 115.25 122.25]\n",
      "   [122.   107.   114.  ]\n",
      "   ...\n",
      "   [147.   128.   134.  ]\n",
      "   [147.   128.   134.  ]\n",
      "   [147.5  128.5  134.5 ]]\n",
      "\n",
      "  [[128.   113.   120.  ]\n",
      "   [121.5  106.5  113.5 ]\n",
      "   [118.   103.   110.  ]\n",
      "   ...\n",
      "   [142.75 123.75 129.75]\n",
      "   [145.75 126.75 132.75]\n",
      "   [149.75 130.75 136.75]]\n",
      "\n",
      "  [[124.5  109.5  116.5 ]\n",
      "   [123.25 108.25 115.25]\n",
      "   [119.75 104.75 111.75]\n",
      "   ...\n",
      "   [143.25 124.25 130.25]\n",
      "   [143.   124.   130.  ]\n",
      "   [138.   119.   125.  ]]]], shape=(32, 128, 128, 3), dtype=float32) (32, 128, 128, 3)\n",
      "tf.Tensor(\n",
      "[[0. 0. 0. ... 0. 0. 0.]\n",
      " [0. 0. 0. ... 0. 0. 0.]\n",
      " [0. 0. 0. ... 0. 0. 0.]\n",
      " ...\n",
      " [0. 0. 0. ... 0. 0. 0.]\n",
      " [0. 0. 0. ... 0. 0. 0.]\n",
      " [0. 0. 0. ... 0. 0. 0.]], shape=(32, 36), dtype=float32) (32, 36)\n"
     ]
    }
   ],
   "source": [
    "for x,y in training_set:\n",
    "    print(x,x.shape)\n",
    "    print(y,y.shape)\n",
    "    break"
   ]
  },
  {
   "cell_type": "markdown",
   "id": "67c4fca3-c575-4fc3-b698-1c78bdf50fc6",
   "metadata": {},
   "source": [
    "##building model"
   ]
  },
  {
   "cell_type": "code",
   "execution_count": 35,
   "id": "d1b04ae2-1555-423c-b48b-df1e596a78b9",
   "metadata": {},
   "outputs": [],
   "source": [
    "from tensorflow.keras.layers import Dense,Conv2D,MaxPool2D,Flatten\n",
    "from tensorflow.keras.models import Sequential"
   ]
  },
  {
   "cell_type": "code",
   "execution_count": 37,
   "id": "9450bfac-afdd-4508-9587-cfe1a8b9f883",
   "metadata": {},
   "outputs": [],
   "source": [
    "model = Sequential()"
   ]
  },
  {
   "cell_type": "markdown",
   "id": "6364795d-f32f-4b0a-a2ec-7369b6fe90f0",
   "metadata": {},
   "source": [
    "building convolution layer"
   ]
  },
  {
   "cell_type": "code",
   "execution_count": 40,
   "id": "7511ad31-e17f-4cb4-8803-6d86ba650ec7",
   "metadata": {},
   "outputs": [],
   "source": [
    "model.add(Conv2D(filters=32,kernel_size=3,padding='same',activation='relu',input_shape=[128, 128, 3]))\n",
    "model.add(Conv2D(filters=32,kernel_size=3,padding='same',activation='relu'))\n",
    "model.add(MaxPool2D(pool_size=2,strides=2))"
   ]
  },
  {
   "cell_type": "code",
   "execution_count": 42,
   "id": "3bfa83c6-04cf-4bd6-a788-be23a9574e4f",
   "metadata": {},
   "outputs": [],
   "source": [
    "model.add(Conv2D(filters=32,kernel_size=3,padding='same',activation='relu',input_shape=[128, 128, 3]))\n",
    "model.add(Conv2D(filters=32,kernel_size=3,padding='same',activation='relu'))\n",
    "model.add(MaxPool2D(pool_size=2,strides=2))"
   ]
  },
  {
   "cell_type": "code",
   "execution_count": 44,
   "id": "8daed66b-54c1-4046-a67c-29d74fc8b9cb",
   "metadata": {},
   "outputs": [],
   "source": [
    "model.add(Conv2D(filters=32,kernel_size=3,padding='same',activation='relu',input_shape=[128, 128, 3]))\n",
    "model.add(Conv2D(filters=32,kernel_size=3,padding='same',activation='relu'))\n",
    "model.add(MaxPool2D(pool_size=2,strides=2))"
   ]
  },
  {
   "cell_type": "code",
   "execution_count": 46,
   "id": "3a431157-e63f-4dfd-acaf-adc441bb8534",
   "metadata": {},
   "outputs": [],
   "source": [
    "model.add(Conv2D(filters=32,kernel_size=3,padding='same',activation='relu',input_shape=[128, 128, 3]))\n",
    "model.add(Conv2D(filters=32,kernel_size=3,padding='same',activation='relu'))\n",
    "model.add(MaxPool2D(pool_size=2,strides=2))"
   ]
  },
  {
   "cell_type": "code",
   "execution_count": 48,
   "id": "4bb1df44-3f05-4012-b49e-0db6c9dd66b9",
   "metadata": {},
   "outputs": [],
   "source": [
    "model.add(Flatten())"
   ]
  },
  {
   "cell_type": "code",
   "execution_count": 50,
   "id": "96a5a639-27b2-4661-a2dd-3b93d696344c",
   "metadata": {},
   "outputs": [],
   "source": [
    "model.add(Dense(units=1024,activation='relu'))"
   ]
  },
  {
   "cell_type": "code",
   "execution_count": 52,
   "id": "94a417e0-144f-4e76-91a6-1bb04bde39bd",
   "metadata": {},
   "outputs": [],
   "source": [
    "#o/p layer\n",
    "model.add(Dense(units=36,activation='softmax'))"
   ]
  },
  {
   "cell_type": "markdown",
   "id": "e1eff8a7-b585-4329-bf04-9d5bc9e33cef",
   "metadata": {},
   "source": [
    "compiling model"
   ]
  },
  {
   "cell_type": "code",
   "execution_count": 55,
   "id": "2167b8ab-e1fc-4c48-b5eb-cbf8b20f17e8",
   "metadata": {},
   "outputs": [],
   "source": [
    "model.compile(optimizer='adam',loss='categorical_crossentropy',metrics=['accuracy'])"
   ]
  },
  {
   "cell_type": "code",
   "execution_count": 57,
   "id": "d8b7dfbc-c028-4d21-b7bc-7465d0aced7c",
   "metadata": {},
   "outputs": [
    {
     "data": {
      "text/html": [
       "<pre style=\"white-space:pre;overflow-x:auto;line-height:normal;font-family:Menlo,'DejaVu Sans Mono',consolas,'Courier New',monospace\"><span style=\"font-weight: bold\">Model: \"sequential_1\"</span>\n",
       "</pre>\n"
      ],
      "text/plain": [
       "\u001b[1mModel: \"sequential_1\"\u001b[0m\n"
      ]
     },
     "metadata": {},
     "output_type": "display_data"
    },
    {
     "data": {
      "text/html": [
       "<pre style=\"white-space:pre;overflow-x:auto;line-height:normal;font-family:Menlo,'DejaVu Sans Mono',consolas,'Courier New',monospace\">┏━━━━━━━━━━━━━━━━━━━━━━━━━━━━━━━━━━━━━━┳━━━━━━━━━━━━━━━━━━━━━━━━━━━━━┳━━━━━━━━━━━━━━━━━┓\n",
       "┃<span style=\"font-weight: bold\"> Layer (type)                         </span>┃<span style=\"font-weight: bold\"> Output Shape                </span>┃<span style=\"font-weight: bold\">         Param # </span>┃\n",
       "┡━━━━━━━━━━━━━━━━━━━━━━━━━━━━━━━━━━━━━━╇━━━━━━━━━━━━━━━━━━━━━━━━━━━━━╇━━━━━━━━━━━━━━━━━┩\n",
       "│ conv2d_11 (<span style=\"color: #0087ff; text-decoration-color: #0087ff\">Conv2D</span>)                   │ (<span style=\"color: #00d7ff; text-decoration-color: #00d7ff\">None</span>, <span style=\"color: #00af00; text-decoration-color: #00af00\">128</span>, <span style=\"color: #00af00; text-decoration-color: #00af00\">128</span>, <span style=\"color: #00af00; text-decoration-color: #00af00\">32</span>)        │             <span style=\"color: #00af00; text-decoration-color: #00af00\">896</span> │\n",
       "├──────────────────────────────────────┼─────────────────────────────┼─────────────────┤\n",
       "│ conv2d_12 (<span style=\"color: #0087ff; text-decoration-color: #0087ff\">Conv2D</span>)                   │ (<span style=\"color: #00d7ff; text-decoration-color: #00d7ff\">None</span>, <span style=\"color: #00af00; text-decoration-color: #00af00\">128</span>, <span style=\"color: #00af00; text-decoration-color: #00af00\">128</span>, <span style=\"color: #00af00; text-decoration-color: #00af00\">32</span>)        │           <span style=\"color: #00af00; text-decoration-color: #00af00\">9,248</span> │\n",
       "├──────────────────────────────────────┼─────────────────────────────┼─────────────────┤\n",
       "│ max_pooling2d_4 (<span style=\"color: #0087ff; text-decoration-color: #0087ff\">MaxPooling2D</span>)       │ (<span style=\"color: #00d7ff; text-decoration-color: #00d7ff\">None</span>, <span style=\"color: #00af00; text-decoration-color: #00af00\">64</span>, <span style=\"color: #00af00; text-decoration-color: #00af00\">64</span>, <span style=\"color: #00af00; text-decoration-color: #00af00\">32</span>)          │               <span style=\"color: #00af00; text-decoration-color: #00af00\">0</span> │\n",
       "├──────────────────────────────────────┼─────────────────────────────┼─────────────────┤\n",
       "│ conv2d_13 (<span style=\"color: #0087ff; text-decoration-color: #0087ff\">Conv2D</span>)                   │ (<span style=\"color: #00d7ff; text-decoration-color: #00d7ff\">None</span>, <span style=\"color: #00af00; text-decoration-color: #00af00\">64</span>, <span style=\"color: #00af00; text-decoration-color: #00af00\">64</span>, <span style=\"color: #00af00; text-decoration-color: #00af00\">32</span>)          │           <span style=\"color: #00af00; text-decoration-color: #00af00\">9,248</span> │\n",
       "├──────────────────────────────────────┼─────────────────────────────┼─────────────────┤\n",
       "│ conv2d_14 (<span style=\"color: #0087ff; text-decoration-color: #0087ff\">Conv2D</span>)                   │ (<span style=\"color: #00d7ff; text-decoration-color: #00d7ff\">None</span>, <span style=\"color: #00af00; text-decoration-color: #00af00\">64</span>, <span style=\"color: #00af00; text-decoration-color: #00af00\">64</span>, <span style=\"color: #00af00; text-decoration-color: #00af00\">32</span>)          │           <span style=\"color: #00af00; text-decoration-color: #00af00\">9,248</span> │\n",
       "├──────────────────────────────────────┼─────────────────────────────┼─────────────────┤\n",
       "│ max_pooling2d_5 (<span style=\"color: #0087ff; text-decoration-color: #0087ff\">MaxPooling2D</span>)       │ (<span style=\"color: #00d7ff; text-decoration-color: #00d7ff\">None</span>, <span style=\"color: #00af00; text-decoration-color: #00af00\">32</span>, <span style=\"color: #00af00; text-decoration-color: #00af00\">32</span>, <span style=\"color: #00af00; text-decoration-color: #00af00\">32</span>)          │               <span style=\"color: #00af00; text-decoration-color: #00af00\">0</span> │\n",
       "├──────────────────────────────────────┼─────────────────────────────┼─────────────────┤\n",
       "│ conv2d_15 (<span style=\"color: #0087ff; text-decoration-color: #0087ff\">Conv2D</span>)                   │ (<span style=\"color: #00d7ff; text-decoration-color: #00d7ff\">None</span>, <span style=\"color: #00af00; text-decoration-color: #00af00\">32</span>, <span style=\"color: #00af00; text-decoration-color: #00af00\">32</span>, <span style=\"color: #00af00; text-decoration-color: #00af00\">32</span>)          │           <span style=\"color: #00af00; text-decoration-color: #00af00\">9,248</span> │\n",
       "├──────────────────────────────────────┼─────────────────────────────┼─────────────────┤\n",
       "│ conv2d_16 (<span style=\"color: #0087ff; text-decoration-color: #0087ff\">Conv2D</span>)                   │ (<span style=\"color: #00d7ff; text-decoration-color: #00d7ff\">None</span>, <span style=\"color: #00af00; text-decoration-color: #00af00\">32</span>, <span style=\"color: #00af00; text-decoration-color: #00af00\">32</span>, <span style=\"color: #00af00; text-decoration-color: #00af00\">32</span>)          │           <span style=\"color: #00af00; text-decoration-color: #00af00\">9,248</span> │\n",
       "├──────────────────────────────────────┼─────────────────────────────┼─────────────────┤\n",
       "│ max_pooling2d_6 (<span style=\"color: #0087ff; text-decoration-color: #0087ff\">MaxPooling2D</span>)       │ (<span style=\"color: #00d7ff; text-decoration-color: #00d7ff\">None</span>, <span style=\"color: #00af00; text-decoration-color: #00af00\">16</span>, <span style=\"color: #00af00; text-decoration-color: #00af00\">16</span>, <span style=\"color: #00af00; text-decoration-color: #00af00\">32</span>)          │               <span style=\"color: #00af00; text-decoration-color: #00af00\">0</span> │\n",
       "├──────────────────────────────────────┼─────────────────────────────┼─────────────────┤\n",
       "│ conv2d_17 (<span style=\"color: #0087ff; text-decoration-color: #0087ff\">Conv2D</span>)                   │ (<span style=\"color: #00d7ff; text-decoration-color: #00d7ff\">None</span>, <span style=\"color: #00af00; text-decoration-color: #00af00\">16</span>, <span style=\"color: #00af00; text-decoration-color: #00af00\">16</span>, <span style=\"color: #00af00; text-decoration-color: #00af00\">32</span>)          │           <span style=\"color: #00af00; text-decoration-color: #00af00\">9,248</span> │\n",
       "├──────────────────────────────────────┼─────────────────────────────┼─────────────────┤\n",
       "│ conv2d_18 (<span style=\"color: #0087ff; text-decoration-color: #0087ff\">Conv2D</span>)                   │ (<span style=\"color: #00d7ff; text-decoration-color: #00d7ff\">None</span>, <span style=\"color: #00af00; text-decoration-color: #00af00\">16</span>, <span style=\"color: #00af00; text-decoration-color: #00af00\">16</span>, <span style=\"color: #00af00; text-decoration-color: #00af00\">32</span>)          │           <span style=\"color: #00af00; text-decoration-color: #00af00\">9,248</span> │\n",
       "├──────────────────────────────────────┼─────────────────────────────┼─────────────────┤\n",
       "│ max_pooling2d_7 (<span style=\"color: #0087ff; text-decoration-color: #0087ff\">MaxPooling2D</span>)       │ (<span style=\"color: #00d7ff; text-decoration-color: #00d7ff\">None</span>, <span style=\"color: #00af00; text-decoration-color: #00af00\">8</span>, <span style=\"color: #00af00; text-decoration-color: #00af00\">8</span>, <span style=\"color: #00af00; text-decoration-color: #00af00\">32</span>)            │               <span style=\"color: #00af00; text-decoration-color: #00af00\">0</span> │\n",
       "├──────────────────────────────────────┼─────────────────────────────┼─────────────────┤\n",
       "│ flatten_1 (<span style=\"color: #0087ff; text-decoration-color: #0087ff\">Flatten</span>)                  │ (<span style=\"color: #00d7ff; text-decoration-color: #00d7ff\">None</span>, <span style=\"color: #00af00; text-decoration-color: #00af00\">2048</span>)                │               <span style=\"color: #00af00; text-decoration-color: #00af00\">0</span> │\n",
       "├──────────────────────────────────────┼─────────────────────────────┼─────────────────┤\n",
       "│ dense_1 (<span style=\"color: #0087ff; text-decoration-color: #0087ff\">Dense</span>)                      │ (<span style=\"color: #00d7ff; text-decoration-color: #00d7ff\">None</span>, <span style=\"color: #00af00; text-decoration-color: #00af00\">1024</span>)                │       <span style=\"color: #00af00; text-decoration-color: #00af00\">2,098,176</span> │\n",
       "├──────────────────────────────────────┼─────────────────────────────┼─────────────────┤\n",
       "│ dense_2 (<span style=\"color: #0087ff; text-decoration-color: #0087ff\">Dense</span>)                      │ (<span style=\"color: #00d7ff; text-decoration-color: #00d7ff\">None</span>, <span style=\"color: #00af00; text-decoration-color: #00af00\">36</span>)                  │          <span style=\"color: #00af00; text-decoration-color: #00af00\">36,900</span> │\n",
       "└──────────────────────────────────────┴─────────────────────────────┴─────────────────┘\n",
       "</pre>\n"
      ],
      "text/plain": [
       "┏━━━━━━━━━━━━━━━━━━━━━━━━━━━━━━━━━━━━━━┳━━━━━━━━━━━━━━━━━━━━━━━━━━━━━┳━━━━━━━━━━━━━━━━━┓\n",
       "┃\u001b[1m \u001b[0m\u001b[1mLayer (type)                        \u001b[0m\u001b[1m \u001b[0m┃\u001b[1m \u001b[0m\u001b[1mOutput Shape               \u001b[0m\u001b[1m \u001b[0m┃\u001b[1m \u001b[0m\u001b[1m        Param #\u001b[0m\u001b[1m \u001b[0m┃\n",
       "┡━━━━━━━━━━━━━━━━━━━━━━━━━━━━━━━━━━━━━━╇━━━━━━━━━━━━━━━━━━━━━━━━━━━━━╇━━━━━━━━━━━━━━━━━┩\n",
       "│ conv2d_11 (\u001b[38;5;33mConv2D\u001b[0m)                   │ (\u001b[38;5;45mNone\u001b[0m, \u001b[38;5;34m128\u001b[0m, \u001b[38;5;34m128\u001b[0m, \u001b[38;5;34m32\u001b[0m)        │             \u001b[38;5;34m896\u001b[0m │\n",
       "├──────────────────────────────────────┼─────────────────────────────┼─────────────────┤\n",
       "│ conv2d_12 (\u001b[38;5;33mConv2D\u001b[0m)                   │ (\u001b[38;5;45mNone\u001b[0m, \u001b[38;5;34m128\u001b[0m, \u001b[38;5;34m128\u001b[0m, \u001b[38;5;34m32\u001b[0m)        │           \u001b[38;5;34m9,248\u001b[0m │\n",
       "├──────────────────────────────────────┼─────────────────────────────┼─────────────────┤\n",
       "│ max_pooling2d_4 (\u001b[38;5;33mMaxPooling2D\u001b[0m)       │ (\u001b[38;5;45mNone\u001b[0m, \u001b[38;5;34m64\u001b[0m, \u001b[38;5;34m64\u001b[0m, \u001b[38;5;34m32\u001b[0m)          │               \u001b[38;5;34m0\u001b[0m │\n",
       "├──────────────────────────────────────┼─────────────────────────────┼─────────────────┤\n",
       "│ conv2d_13 (\u001b[38;5;33mConv2D\u001b[0m)                   │ (\u001b[38;5;45mNone\u001b[0m, \u001b[38;5;34m64\u001b[0m, \u001b[38;5;34m64\u001b[0m, \u001b[38;5;34m32\u001b[0m)          │           \u001b[38;5;34m9,248\u001b[0m │\n",
       "├──────────────────────────────────────┼─────────────────────────────┼─────────────────┤\n",
       "│ conv2d_14 (\u001b[38;5;33mConv2D\u001b[0m)                   │ (\u001b[38;5;45mNone\u001b[0m, \u001b[38;5;34m64\u001b[0m, \u001b[38;5;34m64\u001b[0m, \u001b[38;5;34m32\u001b[0m)          │           \u001b[38;5;34m9,248\u001b[0m │\n",
       "├──────────────────────────────────────┼─────────────────────────────┼─────────────────┤\n",
       "│ max_pooling2d_5 (\u001b[38;5;33mMaxPooling2D\u001b[0m)       │ (\u001b[38;5;45mNone\u001b[0m, \u001b[38;5;34m32\u001b[0m, \u001b[38;5;34m32\u001b[0m, \u001b[38;5;34m32\u001b[0m)          │               \u001b[38;5;34m0\u001b[0m │\n",
       "├──────────────────────────────────────┼─────────────────────────────┼─────────────────┤\n",
       "│ conv2d_15 (\u001b[38;5;33mConv2D\u001b[0m)                   │ (\u001b[38;5;45mNone\u001b[0m, \u001b[38;5;34m32\u001b[0m, \u001b[38;5;34m32\u001b[0m, \u001b[38;5;34m32\u001b[0m)          │           \u001b[38;5;34m9,248\u001b[0m │\n",
       "├──────────────────────────────────────┼─────────────────────────────┼─────────────────┤\n",
       "│ conv2d_16 (\u001b[38;5;33mConv2D\u001b[0m)                   │ (\u001b[38;5;45mNone\u001b[0m, \u001b[38;5;34m32\u001b[0m, \u001b[38;5;34m32\u001b[0m, \u001b[38;5;34m32\u001b[0m)          │           \u001b[38;5;34m9,248\u001b[0m │\n",
       "├──────────────────────────────────────┼─────────────────────────────┼─────────────────┤\n",
       "│ max_pooling2d_6 (\u001b[38;5;33mMaxPooling2D\u001b[0m)       │ (\u001b[38;5;45mNone\u001b[0m, \u001b[38;5;34m16\u001b[0m, \u001b[38;5;34m16\u001b[0m, \u001b[38;5;34m32\u001b[0m)          │               \u001b[38;5;34m0\u001b[0m │\n",
       "├──────────────────────────────────────┼─────────────────────────────┼─────────────────┤\n",
       "│ conv2d_17 (\u001b[38;5;33mConv2D\u001b[0m)                   │ (\u001b[38;5;45mNone\u001b[0m, \u001b[38;5;34m16\u001b[0m, \u001b[38;5;34m16\u001b[0m, \u001b[38;5;34m32\u001b[0m)          │           \u001b[38;5;34m9,248\u001b[0m │\n",
       "├──────────────────────────────────────┼─────────────────────────────┼─────────────────┤\n",
       "│ conv2d_18 (\u001b[38;5;33mConv2D\u001b[0m)                   │ (\u001b[38;5;45mNone\u001b[0m, \u001b[38;5;34m16\u001b[0m, \u001b[38;5;34m16\u001b[0m, \u001b[38;5;34m32\u001b[0m)          │           \u001b[38;5;34m9,248\u001b[0m │\n",
       "├──────────────────────────────────────┼─────────────────────────────┼─────────────────┤\n",
       "│ max_pooling2d_7 (\u001b[38;5;33mMaxPooling2D\u001b[0m)       │ (\u001b[38;5;45mNone\u001b[0m, \u001b[38;5;34m8\u001b[0m, \u001b[38;5;34m8\u001b[0m, \u001b[38;5;34m32\u001b[0m)            │               \u001b[38;5;34m0\u001b[0m │\n",
       "├──────────────────────────────────────┼─────────────────────────────┼─────────────────┤\n",
       "│ flatten_1 (\u001b[38;5;33mFlatten\u001b[0m)                  │ (\u001b[38;5;45mNone\u001b[0m, \u001b[38;5;34m2048\u001b[0m)                │               \u001b[38;5;34m0\u001b[0m │\n",
       "├──────────────────────────────────────┼─────────────────────────────┼─────────────────┤\n",
       "│ dense_1 (\u001b[38;5;33mDense\u001b[0m)                      │ (\u001b[38;5;45mNone\u001b[0m, \u001b[38;5;34m1024\u001b[0m)                │       \u001b[38;5;34m2,098,176\u001b[0m │\n",
       "├──────────────────────────────────────┼─────────────────────────────┼─────────────────┤\n",
       "│ dense_2 (\u001b[38;5;33mDense\u001b[0m)                      │ (\u001b[38;5;45mNone\u001b[0m, \u001b[38;5;34m36\u001b[0m)                  │          \u001b[38;5;34m36,900\u001b[0m │\n",
       "└──────────────────────────────────────┴─────────────────────────────┴─────────────────┘\n"
      ]
     },
     "metadata": {},
     "output_type": "display_data"
    },
    {
     "data": {
      "text/html": [
       "<pre style=\"white-space:pre;overflow-x:auto;line-height:normal;font-family:Menlo,'DejaVu Sans Mono',consolas,'Courier New',monospace\"><span style=\"font-weight: bold\"> Total params: </span><span style=\"color: #00af00; text-decoration-color: #00af00\">2,200,708</span> (8.40 MB)\n",
       "</pre>\n"
      ],
      "text/plain": [
       "\u001b[1m Total params: \u001b[0m\u001b[38;5;34m2,200,708\u001b[0m (8.40 MB)\n"
      ]
     },
     "metadata": {},
     "output_type": "display_data"
    },
    {
     "data": {
      "text/html": [
       "<pre style=\"white-space:pre;overflow-x:auto;line-height:normal;font-family:Menlo,'DejaVu Sans Mono',consolas,'Courier New',monospace\"><span style=\"font-weight: bold\"> Trainable params: </span><span style=\"color: #00af00; text-decoration-color: #00af00\">2,200,708</span> (8.40 MB)\n",
       "</pre>\n"
      ],
      "text/plain": [
       "\u001b[1m Trainable params: \u001b[0m\u001b[38;5;34m2,200,708\u001b[0m (8.40 MB)\n"
      ]
     },
     "metadata": {},
     "output_type": "display_data"
    },
    {
     "data": {
      "text/html": [
       "<pre style=\"white-space:pre;overflow-x:auto;line-height:normal;font-family:Menlo,'DejaVu Sans Mono',consolas,'Courier New',monospace\"><span style=\"font-weight: bold\"> Non-trainable params: </span><span style=\"color: #00af00; text-decoration-color: #00af00\">0</span> (0.00 B)\n",
       "</pre>\n"
      ],
      "text/plain": [
       "\u001b[1m Non-trainable params: \u001b[0m\u001b[38;5;34m0\u001b[0m (0.00 B)\n"
      ]
     },
     "metadata": {},
     "output_type": "display_data"
    }
   ],
   "source": [
    "model.summary()"
   ]
  },
  {
   "cell_type": "code",
   "execution_count": null,
   "id": "fd7b7ff2-e3f9-4bb2-b139-5e5e719bc77a",
   "metadata": {},
   "outputs": [],
   "source": []
  },
  {
   "cell_type": "markdown",
   "id": "d806a535-e575-4fd7-ae60-84558993a73c",
   "metadata": {},
   "source": [
    "model training"
   ]
  },
  {
   "cell_type": "code",
   "execution_count": null,
   "id": "726e05bd-c78c-4010-a400-b301095436d4",
   "metadata": {},
   "outputs": [],
   "source": [
    "training_history = model.fit(x=training_set,validation_data=validation_set,epochs=10)"
   ]
  },
  {
   "cell_type": "code",
   "execution_count": null,
   "id": "ffac2d5c-25e8-4629-8d41-3874c4a67d41",
   "metadata": {},
   "outputs": [],
   "source": []
  },
  {
   "cell_type": "markdown",
   "id": "5c3966d1-a499-429a-8ca9-e9ea392bc724",
   "metadata": {},
   "source": [
    "model evaluation"
   ]
  },
  {
   "cell_type": "code",
   "execution_count": null,
   "id": "12bd6507-cc8f-4ae2-98a9-4f94d21f8628",
   "metadata": {},
   "outputs": [],
   "source": [
    "#model evaluation on training set\n",
    "train_loss,train_acc=model.evaluate(training_set)"
   ]
  },
  {
   "cell_type": "code",
   "execution_count": null,
   "id": "b133791d-6c0d-43e8-98e9-bacc2c2dbdc9",
   "metadata": {},
   "outputs": [],
   "source": [
    "print(train_loss,train_acc)"
   ]
  },
  {
   "cell_type": "code",
   "execution_count": null,
   "id": "301f279f-2767-4c79-ae1a-13082a9c83ab",
   "metadata": {},
   "outputs": [],
   "source": [
    "#model on validation set\n",
    "val_loss,val_acc=model.evaluate(validation_set)"
   ]
  },
  {
   "cell_type": "code",
   "execution_count": null,
   "id": "67c68dd4-3b5c-4e79-ac73-988767c71508",
   "metadata": {},
   "outputs": [],
   "source": [
    "print(val_loss,val_acc)"
   ]
  },
  {
   "cell_type": "code",
   "execution_count": null,
   "id": "9d41970f-09d1-4059-aab7-af73e10b6aea",
   "metadata": {},
   "outputs": [],
   "source": []
  },
  {
   "cell_type": "markdown",
   "id": "3adea4ad-5712-486b-9122-edf1f37e40cb",
   "metadata": {},
   "source": [
    "saving model"
   ]
  },
  {
   "cell_type": "code",
   "execution_count": null,
   "id": "74ba4000-7422-4edd-a1ed-4a50d153913b",
   "metadata": {},
   "outputs": [],
   "source": [
    "model.save(\"trained_model.keras\")"
   ]
  },
  {
   "cell_type": "code",
   "execution_count": null,
   "id": "f5e9020d-2280-4a88-a161-60086c000bfa",
   "metadata": {},
   "outputs": [],
   "source": [
    "training_history.history"
   ]
  },
  {
   "cell_type": "code",
   "execution_count": null,
   "id": "ecc5d814-df38-4786-bc58-dad2dfffab70",
   "metadata": {},
   "outputs": [],
   "source": [
    "#recording history in json\n",
    "import json\n",
    "with open(\"training_hist.json\",\"w\") as f:\n",
    "    json.dump(training_history.history,f)"
   ]
  },
  {
   "cell_type": "code",
   "execution_count": null,
   "id": "3c1a3c70-b8e3-4601-91f2-2138460d029d",
   "metadata": {},
   "outputs": [],
   "source": [
    "training_history.history['val_accuracy']"
   ]
  },
  {
   "cell_type": "markdown",
   "id": "a00c58a9-a9ed-4dbd-af19-adea7d574395",
   "metadata": {},
   "source": [
    "accuracy visualization"
   ]
  },
  {
   "cell_type": "code",
   "execution_count": null,
   "id": "03e23f20-4cf8-4cd0-98cc-8cb439e26b1d",
   "metadata": {},
   "outputs": [],
   "source": [
    "epochs = [i for i in range(1,11)]\n",
    "plt.plot(epochs,training_history.history['accuracy'],color='red',label='Training Accuracy')\n",
    "plt.plot(epochs,training_history.history['val_accuracy'],color='blue',label='Validation Accuracy')\n",
    "plt.xlabel(\"No. of Epochs\")\n",
    "plt.ylabel(\"Accuracy Result\")\n",
    "plt.title(\"Visualization of Accuracy Result\")\n",
    "plt.legend()\n",
    "plt.show()"
   ]
  },
  {
   "cell_type": "markdown",
   "id": "6ba747d0-ce12-4fdc-ac96-36ed8465ff09",
   "metadata": {},
   "source": []
  },
  {
   "cell_type": "markdown",
   "id": "7f5172da-4faf-4ed7-b717-3676a36ab93c",
   "metadata": {},
   "source": [
    "some other metrics for model evaluation"
   ]
  },
  {
   "cell_type": "code",
   "execution_count": null,
   "id": "99283bfc-c82b-414c-8dbf-693e9cd8925c",
   "metadata": {},
   "outputs": [],
   "source": [
    "class_name = validation_set.class_names\n",
    "class_name"
   ]
  },
  {
   "cell_type": "code",
   "execution_count": null,
   "id": "57e55005-5d72-4875-9cd7-14dd60788071",
   "metadata": {},
   "outputs": [],
   "source": []
  },
  {
   "cell_type": "code",
   "execution_count": null,
   "id": "848dc19e-cff0-4001-b703-43c9dc72bcc3",
   "metadata": {},
   "outputs": [],
   "source": [
    "test_set = tf.keras.utils.image_dataset_from_directory(\n",
    "    r'C:\\Users\\varsh\\Desktop\\archive\\New Plant Diseases Dataset(Augmented)\\New Plant Diseases Dataset(Augmented)\\valid',\n",
    "    labels=\"inferred\",\n",
    "    label_mode=\"categorical\",\n",
    "    class_names=None,\n",
    "    color_mode=\"rgb\",\n",
    "    batch_size=32,\n",
    "    image_size=(128, 128),\n",
    "    shuffle=False,\n",
    "    seed=None,\n",
    "    validation_split=None,\n",
    "    subset=None,\n",
    "    interpolation=\"bilinear\",\n",
    "    follow_links=False,\n",
    "    crop_to_aspect_ratio=False,\n",
    ")"
   ]
  },
  {
   "cell_type": "code",
   "execution_count": null,
   "id": "93922ce9-c0bb-4df5-8d12-e30a9acb626c",
   "metadata": {},
   "outputs": [],
   "source": [
    "y_pred=model.predict(test_set)\n",
    "y_pred,y_pred.shape"
   ]
  },
  {
   "cell_type": "code",
   "execution_count": null,
   "id": "cd15cbdd-d7f6-4f90-81d8-feb73802ea33",
   "metadata": {},
   "outputs": [],
   "source": [
    "predicted_categories=tf.argmax(y_pred,axis=1)"
   ]
  },
  {
   "cell_type": "code",
   "execution_count": null,
   "id": "59267ed4-3bb0-45ea-ade2-b9f6dc265e98",
   "metadata": {},
   "outputs": [],
   "source": [
    "predicted_categories"
   ]
  },
  {
   "cell_type": "code",
   "execution_count": null,
   "id": "363b350a-b241-4aa2-9988-6bcc325f8146",
   "metadata": {},
   "outputs": [],
   "source": [
    "true_categories=tf.concat([y for x,y in test_set],axis=0)\n",
    "true_categories"
   ]
  },
  {
   "cell_type": "code",
   "execution_count": null,
   "id": "c0dc8727-fa59-4423-8407-dababc9fa392",
   "metadata": {},
   "outputs": [],
   "source": [
    "Y_true=tf.argmax(true_categories,axis=1)\n",
    "Y_true"
   ]
  },
  {
   "cell_type": "code",
   "execution_count": null,
   "id": "f988a034-a1b5-4486-9ee3-7acf3bdfb5a9",
   "metadata": {},
   "outputs": [],
   "source": []
  },
  {
   "attachments": {
    "57dbbc41-3f32-4b22-b834-c1067453db5a.jpg": {
     "image/jpeg": "[encoded data removed]"
    }
   },
   "cell_type": "markdown",
   "id": "f1dcb9e1-b4fd-49c9-9ebe-1da15ca9eed5",
   "metadata": {},
   "source": [
    "![positive-negative pic.jpg](attachment:57dbbc41-3f32-4b22-b834-c1067453db5a.jpg)"
   ]
  },
  {
   "cell_type": "raw",
   "id": "d5be46b1-3f3e-4324-aa2b-2a714e949837",
   "metadata": {},
   "source": []
  },
  {
   "cell_type": "code",
   "execution_count": null,
   "id": "8d3f0d4e-68f2-47e4-98a5-927a24231b0c",
   "metadata": {},
   "outputs": [],
   "source": [
    "from sklearn.metrics import classification_report,confusion_matrix"
   ]
  },
  {
   "cell_type": "code",
   "execution_count": null,
   "id": "aef12bdd-ba19-4a1f-b0b5-7bb6f7bf4b8d",
   "metadata": {},
   "outputs": [],
   "source": [
    "print(classification_report(Y_true,predicted_categories,target_names=class_name))"
   ]
  },
  {
   "cell_type": "code",
   "execution_count": null,
   "id": "057845a0-65d1-4b44-a330-3a64f640ad78",
   "metadata": {},
   "outputs": [],
   "source": [
    "cm = confusion_matrix(Y_true,predicted_categories)\n",
    "cm.shape"
   ]
  },
  {
   "cell_type": "code",
   "execution_count": null,
   "id": "5a9bf4c5-e196-478b-a0fb-7d8674497874",
   "metadata": {},
   "outputs": [],
   "source": []
  },
  {
   "cell_type": "markdown",
   "id": "5cf79b30-87d8-4aba-bc7d-16214a743e6e",
   "metadata": {},
   "source": [
    "confusion matrix visualization"
   ]
  },
  {
   "cell_type": "code",
   "execution_count": null,
   "id": "7471b49c-1e67-4a19-97db-1e25aab060d3",
   "metadata": {},
   "outputs": [],
   "source": [
    "plt.figure(figsize=(40,40))\n",
    "sns.heatmap(cm,annot=True,annot_kws={'size':10})\n",
    "plt.xlabel(\"Predicted Class\",fontsize=20)\n",
    "plt.ylabel(\"Actual Class\",fontsize=20)\n",
    "plt.title(\"Plant Disease Prediction Confusion Matrix\",fontsize=25)\n",
    "plt.show()"
   ]
  },
  {
   "cell_type": "code",
   "execution_count": null,
   "id": "07914092-d1a8-4508-986f-5927f2a42ab9",
   "metadata": {},
   "outputs": [],
   "source": []
  },
  {
   "cell_type": "code",
   "execution_count": null,
   "id": "a620b091-c0c0-43ea-b226-a5fcf74a6a46",
   "metadata": {},
   "outputs": [],
   "source": []
  },
  {
   "cell_type": "code",
   "execution_count": null,
   "id": "ad3265be-d340-4027-b4a4-7008f277f95b",
   "metadata": {},
   "outputs": [],
   "source": []
  },
  {
   "cell_type": "code",
   "execution_count": null,
   "id": "b074ab9a-c02b-4574-a292-dc56014855a7",
   "metadata": {},
   "outputs": [],
   "source": []
  }
 ],
 "metadata": {
  "kernelspec": {
   "display_name": "Python 3 (ipykernel)",
   "language": "python",
   "name": "python3"
  },
  "language_info": {
   "codemirror_mode": {
    "name": "ipython",
    "version": 3
   },
   "file_extension": ".py",
   "mimetype": "text/x-python",
   "name": "python",
   "nbconvert_exporter": "python",
   "pygments_lexer": "ipython3",
   "version": "3.12.4"
  }
 },
 "nbformat": 4,
 "nbformat_minor": 5
}
